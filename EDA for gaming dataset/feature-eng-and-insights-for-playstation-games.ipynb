{
 "cells": [
  {
   "cell_type": "code",
   "execution_count": 1,
   "id": "b407ce3c",
   "metadata": {
    "_cell_guid": "b1076dfc-b9ad-4769-8c92-a6c4dae69d19",
    "_uuid": "8f2839f25d086af736a60e9eeb907d3b93b6e0e5",
    "execution": {
     "iopub.execute_input": "2025-10-08T04:19:24.401728Z",
     "iopub.status.busy": "2025-10-08T04:19:24.401387Z",
     "iopub.status.idle": "2025-10-08T04:19:26.880827Z",
     "shell.execute_reply": "2025-10-08T04:19:26.878278Z"
    },
    "papermill": {
     "duration": 2.489643,
     "end_time": "2025-10-08T04:19:26.882838",
     "exception": false,
     "start_time": "2025-10-08T04:19:24.393195",
     "status": "completed"
    },
    "tags": []
   },
   "outputs": [
    {
     "name": "stdout",
     "output_type": "stream",
     "text": [
      "/kaggle/input/playstation-games-info-2152025/game_details.csv\n"
     ]
    }
   ],
   "source": [
    "# This Python 3 environment comes with many helpful analytics libraries installed\n",
    "# It is defined by the kaggle/python Docker image: https://github.com/kaggle/docker-python\n",
    "# For example, here's several helpful packages to load\n",
    "\n",
    "import numpy as np # linear algebra\n",
    "import pandas as pd # data processing, CSV file I/O (e.g. pd.read_csv)\n",
    "\n",
    "# Input data files are available in the read-only \"../input/\" directory\n",
    "# For example, running this (by clicking run or pressing Shift+Enter) will list all files under the input directory\n",
    "\n",
    "import os\n",
    "for dirname, _, filenames in os.walk('/kaggle/input'):\n",
    "    for filename in filenames:\n",
    "        print(os.path.join(dirname, filename))\n",
    "\n",
    "# You can write up to 20GB to the current directory (/kaggle/working/) that gets preserved as output when you create a version using \"Save & Run All\" \n",
    "# You can also write temporary files to /kaggle/temp/, but they won't be saved outside of the current session"
   ]
  },
  {
   "cell_type": "code",
   "execution_count": 2,
   "id": "9f203e63",
   "metadata": {
    "execution": {
     "iopub.execute_input": "2025-10-08T04:19:26.901304Z",
     "iopub.status.busy": "2025-10-08T04:19:26.900222Z",
     "iopub.status.idle": "2025-10-08T04:19:26.908579Z",
     "shell.execute_reply": "2025-10-08T04:19:26.906709Z"
    },
    "papermill": {
     "duration": 0.020833,
     "end_time": "2025-10-08T04:19:26.912066",
     "exception": false,
     "start_time": "2025-10-08T04:19:26.891233",
     "status": "completed"
    },
    "tags": []
   },
   "outputs": [],
   "source": [
    "import warnings\n",
    "\n",
    "# Suppress all warnings\n",
    "warnings.filterwarnings('ignore')\n",
    "\n"
   ]
  },
  {
   "cell_type": "code",
   "execution_count": 3,
   "id": "f3719552",
   "metadata": {
    "execution": {
     "iopub.execute_input": "2025-10-08T04:19:26.929632Z",
     "iopub.status.busy": "2025-10-08T04:19:26.928092Z",
     "iopub.status.idle": "2025-10-08T04:19:27.024455Z",
     "shell.execute_reply": "2025-10-08T04:19:27.022761Z"
    },
    "papermill": {
     "duration": 0.106289,
     "end_time": "2025-10-08T04:19:27.027022",
     "exception": false,
     "start_time": "2025-10-08T04:19:26.920733",
     "status": "completed"
    },
    "tags": []
   },
   "outputs": [
    {
     "data": {
      "text/html": [
       "<div>\n",
       "<style scoped>\n",
       "    .dataframe tbody tr th:only-of-type {\n",
       "        vertical-align: middle;\n",
       "    }\n",
       "\n",
       "    .dataframe tbody tr th {\n",
       "        vertical-align: top;\n",
       "    }\n",
       "\n",
       "    .dataframe thead th {\n",
       "        text-align: right;\n",
       "    }\n",
       "</style>\n",
       "<table border=\"1\" class=\"dataframe\">\n",
       "  <thead>\n",
       "    <tr style=\"text-align: right;\">\n",
       "      <th></th>\n",
       "      <th>game_name</th>\n",
       "      <th>highest_price</th>\n",
       "      <th>release_date</th>\n",
       "      <th>genre</th>\n",
       "      <th>publisher</th>\n",
       "      <th>platform</th>\n",
       "      <th>metacritic_score</th>\n",
       "      <th>metacritic_rating_count</th>\n",
       "      <th>metacritic_user_score</th>\n",
       "      <th>metacritic_user_rating_count</th>\n",
       "      <th>playstation_score</th>\n",
       "      <th>playstation_rating_count</th>\n",
       "    </tr>\n",
       "  </thead>\n",
       "  <tbody>\n",
       "    <tr>\n",
       "      <th>0</th>\n",
       "      <td>Grand Theft Auto IV</td>\n",
       "      <td>€24.99</td>\n",
       "      <td>Feb 15, 2012</td>\n",
       "      <td>Action / Shooter / Racing</td>\n",
       "      <td>Rockstar</td>\n",
       "      <td>PS3</td>\n",
       "      <td>98.0</td>\n",
       "      <td>86.0</td>\n",
       "      <td>8.3</td>\n",
       "      <td>5541.0</td>\n",
       "      <td>4.32</td>\n",
       "      <td>48904.0</td>\n",
       "    </tr>\n",
       "    <tr>\n",
       "      <th>1</th>\n",
       "      <td>Red Dead Redemption 2</td>\n",
       "      <td>€59.99</td>\n",
       "      <td>Oct 26, 2018</td>\n",
       "      <td>Action / Adventure / Unique</td>\n",
       "      <td>Rockstar Games</td>\n",
       "      <td>PS4</td>\n",
       "      <td>97.0</td>\n",
       "      <td>99.0</td>\n",
       "      <td>8.9</td>\n",
       "      <td>31932.0</td>\n",
       "      <td>4.74</td>\n",
       "      <td>379257.0</td>\n",
       "    </tr>\n",
       "    <tr>\n",
       "      <th>2</th>\n",
       "      <td>Red Dead Online</td>\n",
       "      <td>€69.99</td>\n",
       "      <td>Oct 29, 2018</td>\n",
       "      <td>Action / Adventure</td>\n",
       "      <td>Rockstar Games</td>\n",
       "      <td>PS4</td>\n",
       "      <td>97.0</td>\n",
       "      <td>99.0</td>\n",
       "      <td>8.9</td>\n",
       "      <td>31932.0</td>\n",
       "      <td>4.74</td>\n",
       "      <td>379346.0</td>\n",
       "    </tr>\n",
       "    <tr>\n",
       "      <th>3</th>\n",
       "      <td>Grand Theft Auto 3</td>\n",
       "      <td>€9.99</td>\n",
       "      <td>Oct 4, 2012</td>\n",
       "      <td>--</td>\n",
       "      <td>Rockstar Games</td>\n",
       "      <td>PS3</td>\n",
       "      <td>97.0</td>\n",
       "      <td>56.0</td>\n",
       "      <td>8.0</td>\n",
       "      <td>2079.0</td>\n",
       "      <td>4.59</td>\n",
       "      <td>1437.0</td>\n",
       "    </tr>\n",
       "    <tr>\n",
       "      <th>4</th>\n",
       "      <td>Grand Theft Auto V</td>\n",
       "      <td>€69.99</td>\n",
       "      <td>Sep 17, 2013</td>\n",
       "      <td>Action / Adventure</td>\n",
       "      <td>Rockstar Games</td>\n",
       "      <td>PS3</td>\n",
       "      <td>97.0</td>\n",
       "      <td>66.0</td>\n",
       "      <td>8.5</td>\n",
       "      <td>14322.0</td>\n",
       "      <td>4.65</td>\n",
       "      <td>40895.0</td>\n",
       "    </tr>\n",
       "    <tr>\n",
       "      <th>...</th>\n",
       "      <td>...</td>\n",
       "      <td>...</td>\n",
       "      <td>...</td>\n",
       "      <td>...</td>\n",
       "      <td>...</td>\n",
       "      <td>...</td>\n",
       "      <td>...</td>\n",
       "      <td>...</td>\n",
       "      <td>...</td>\n",
       "      <td>...</td>\n",
       "      <td>...</td>\n",
       "      <td>...</td>\n",
       "    </tr>\n",
       "    <tr>\n",
       "      <th>3521</th>\n",
       "      <td>SENRAN KAGURA Burst Re:Newal</td>\n",
       "      <td>€39.99</td>\n",
       "      <td>Jan 18, 2019</td>\n",
       "      <td>Action</td>\n",
       "      <td>Marvelous Europe Limited</td>\n",
       "      <td>PS4</td>\n",
       "      <td>65.0</td>\n",
       "      <td>19.0</td>\n",
       "      <td>5.6</td>\n",
       "      <td>65.0</td>\n",
       "      <td>4.69</td>\n",
       "      <td>2485.0</td>\n",
       "    </tr>\n",
       "    <tr>\n",
       "      <th>3522</th>\n",
       "      <td>Smash Hit Plunder</td>\n",
       "      <td>€29.99</td>\n",
       "      <td>Oct 5, 2018</td>\n",
       "      <td>Arcade / Unique / Family</td>\n",
       "      <td>TRIANGULAR PIXELS LTD</td>\n",
       "      <td>PS4</td>\n",
       "      <td>NaN</td>\n",
       "      <td>NaN</td>\n",
       "      <td>NaN</td>\n",
       "      <td>NaN</td>\n",
       "      <td>4.29</td>\n",
       "      <td>7.0</td>\n",
       "    </tr>\n",
       "    <tr>\n",
       "      <th>3523</th>\n",
       "      <td>FOX n FORESTS</td>\n",
       "      <td>€19.99</td>\n",
       "      <td>May 17, 2018</td>\n",
       "      <td>Action / Role playing games / Adventure</td>\n",
       "      <td>ASTRAGON ENTERTAINMENT GMBH</td>\n",
       "      <td>PS4</td>\n",
       "      <td>NaN</td>\n",
       "      <td>NaN</td>\n",
       "      <td>NaN</td>\n",
       "      <td>NaN</td>\n",
       "      <td>4.22</td>\n",
       "      <td>50.0</td>\n",
       "    </tr>\n",
       "    <tr>\n",
       "      <th>3524</th>\n",
       "      <td>DYNASTY WARRIORS 9</td>\n",
       "      <td>€69.99</td>\n",
       "      <td>Mar 13, 2018</td>\n",
       "      <td>Action</td>\n",
       "      <td>Koei Tecmo Europe Ltd</td>\n",
       "      <td>PS4</td>\n",
       "      <td>NaN</td>\n",
       "      <td>NaN</td>\n",
       "      <td>NaN</td>\n",
       "      <td>NaN</td>\n",
       "      <td>3.49</td>\n",
       "      <td>12177.0</td>\n",
       "    </tr>\n",
       "    <tr>\n",
       "      <th>3525</th>\n",
       "      <td>Vostok Inc.</td>\n",
       "      <td>€14.99</td>\n",
       "      <td>Sep 22, 2017</td>\n",
       "      <td>Action / Arcade / Casual</td>\n",
       "      <td>Badland Publishing</td>\n",
       "      <td>PS Vita</td>\n",
       "      <td>NaN</td>\n",
       "      <td>NaN</td>\n",
       "      <td>NaN</td>\n",
       "      <td>NaN</td>\n",
       "      <td>5</td>\n",
       "      <td>1.0</td>\n",
       "    </tr>\n",
       "  </tbody>\n",
       "</table>\n",
       "<p>3526 rows × 12 columns</p>\n",
       "</div>"
      ],
      "text/plain": [
       "                         game_name highest_price  release_date  \\\n",
       "0              Grand Theft Auto IV        €24.99  Feb 15, 2012   \n",
       "1            Red Dead Redemption 2        €59.99  Oct 26, 2018   \n",
       "2                  Red Dead Online        €69.99  Oct 29, 2018   \n",
       "3               Grand Theft Auto 3         €9.99   Oct 4, 2012   \n",
       "4               Grand Theft Auto V        €69.99  Sep 17, 2013   \n",
       "...                            ...           ...           ...   \n",
       "3521  SENRAN KAGURA Burst Re:Newal        €39.99  Jan 18, 2019   \n",
       "3522             Smash Hit Plunder        €29.99   Oct 5, 2018   \n",
       "3523                 FOX n FORESTS        €19.99  May 17, 2018   \n",
       "3524            DYNASTY WARRIORS 9        €69.99  Mar 13, 2018   \n",
       "3525                   Vostok Inc.        €14.99  Sep 22, 2017   \n",
       "\n",
       "                                        genre                    publisher  \\\n",
       "0                   Action / Shooter / Racing                     Rockstar   \n",
       "1                 Action / Adventure / Unique               Rockstar Games   \n",
       "2                          Action / Adventure               Rockstar Games   \n",
       "3                                          --               Rockstar Games   \n",
       "4                          Action / Adventure               Rockstar Games   \n",
       "...                                       ...                          ...   \n",
       "3521                                   Action     Marvelous Europe Limited   \n",
       "3522                 Arcade / Unique / Family        TRIANGULAR PIXELS LTD   \n",
       "3523  Action / Role playing games / Adventure  ASTRAGON ENTERTAINMENT GMBH   \n",
       "3524                                   Action        Koei Tecmo Europe Ltd   \n",
       "3525                 Action / Arcade / Casual           Badland Publishing   \n",
       "\n",
       "     platform  metacritic_score  metacritic_rating_count  \\\n",
       "0         PS3              98.0                     86.0   \n",
       "1         PS4              97.0                     99.0   \n",
       "2         PS4              97.0                     99.0   \n",
       "3         PS3              97.0                     56.0   \n",
       "4         PS3              97.0                     66.0   \n",
       "...       ...               ...                      ...   \n",
       "3521      PS4              65.0                     19.0   \n",
       "3522      PS4               NaN                      NaN   \n",
       "3523      PS4               NaN                      NaN   \n",
       "3524      PS4               NaN                      NaN   \n",
       "3525  PS Vita               NaN                      NaN   \n",
       "\n",
       "      metacritic_user_score  metacritic_user_rating_count playstation_score  \\\n",
       "0                       8.3                        5541.0              4.32   \n",
       "1                       8.9                       31932.0              4.74   \n",
       "2                       8.9                       31932.0              4.74   \n",
       "3                       8.0                        2079.0              4.59   \n",
       "4                       8.5                       14322.0              4.65   \n",
       "...                     ...                           ...               ...   \n",
       "3521                    5.6                          65.0              4.69   \n",
       "3522                    NaN                           NaN              4.29   \n",
       "3523                    NaN                           NaN              4.22   \n",
       "3524                    NaN                           NaN              3.49   \n",
       "3525                    NaN                           NaN                 5   \n",
       "\n",
       "      playstation_rating_count  \n",
       "0                      48904.0  \n",
       "1                     379257.0  \n",
       "2                     379346.0  \n",
       "3                       1437.0  \n",
       "4                      40895.0  \n",
       "...                        ...  \n",
       "3521                    2485.0  \n",
       "3522                       7.0  \n",
       "3523                      50.0  \n",
       "3524                   12177.0  \n",
       "3525                       1.0  \n",
       "\n",
       "[3526 rows x 12 columns]"
      ]
     },
     "execution_count": 3,
     "metadata": {},
     "output_type": "execute_result"
    }
   ],
   "source": [
    "df = pd.read_csv(\"/kaggle/input/playstation-games-info-2152025/game_details.csv\")\n",
    "df"
   ]
  },
  {
   "cell_type": "code",
   "execution_count": 4,
   "id": "0aae90b1",
   "metadata": {
    "execution": {
     "iopub.execute_input": "2025-10-08T04:19:27.046003Z",
     "iopub.status.busy": "2025-10-08T04:19:27.045127Z",
     "iopub.status.idle": "2025-10-08T04:19:27.131836Z",
     "shell.execute_reply": "2025-10-08T04:19:27.130349Z"
    },
    "papermill": {
     "duration": 0.098314,
     "end_time": "2025-10-08T04:19:27.134528",
     "exception": false,
     "start_time": "2025-10-08T04:19:27.036214",
     "status": "completed"
    },
    "tags": []
   },
   "outputs": [
    {
     "name": "stdout",
     "output_type": "stream",
     "text": [
      "Shape of dataset (3526, 12)\n",
      "==========================================================================================\n",
      "Feature name are ['game_name', 'highest_price', 'release_date', 'genre', 'publisher', 'platform', 'metacritic_score', 'metacritic_rating_count', 'metacritic_user_score', 'metacritic_user_rating_count', 'playstation_score', 'playstation_rating_count']\n",
      "==========================================================================================\n",
      "datatypes of each feature \n",
      " game_name                        object\n",
      "highest_price                    object\n",
      "release_date                     object\n",
      "genre                            object\n",
      "publisher                        object\n",
      "platform                         object\n",
      "metacritic_score                float64\n",
      "metacritic_rating_count         float64\n",
      "metacritic_user_score           float64\n",
      "metacritic_user_rating_count    float64\n",
      "playstation_score                object\n",
      "playstation_rating_count        float64\n",
      "dtype: object\n",
      "==========================================================================================\n",
      "numerical datatypes features are ['metacritic_score', 'metacritic_rating_count', 'metacritic_user_score', 'metacritic_user_rating_count', 'playstation_rating_count']\n",
      "==========================================================================================\n",
      "object datatypes feature are ['game_name', 'highest_price', 'release_date', 'genre', 'publisher', 'platform', 'playstation_score']\n",
      "==========================================================================================\n",
      "<class 'pandas.core.frame.DataFrame'>\n",
      "RangeIndex: 3526 entries, 0 to 3525\n",
      "Data columns (total 12 columns):\n",
      " #   Column                        Non-Null Count  Dtype  \n",
      "---  ------                        --------------  -----  \n",
      " 0   game_name                     3526 non-null   object \n",
      " 1   highest_price                 3415 non-null   object \n",
      " 2   release_date                  3526 non-null   object \n",
      " 3   genre                         3526 non-null   object \n",
      " 4   publisher                     3471 non-null   object \n",
      " 5   platform                      3526 non-null   object \n",
      " 6   metacritic_score              879 non-null    float64\n",
      " 7   metacritic_rating_count       879 non-null    float64\n",
      " 8   metacritic_user_score         880 non-null    float64\n",
      " 9   metacritic_user_rating_count  880 non-null    float64\n",
      " 10  playstation_score             3526 non-null   object \n",
      " 11  playstation_rating_count      2557 non-null   float64\n",
      "dtypes: float64(5), object(7)\n",
      "memory usage: 330.7+ KB\n",
      "Information of dataset None\n",
      "==========================================================================================\n",
      "describtion of numerical columns \n",
      "        metacritic_score  metacritic_rating_count  metacritic_user_score  \\\n",
      "count        879.000000               879.000000             880.000000   \n",
      "mean          77.470990                33.407281               6.650455   \n",
      "std            9.003607                28.617623               2.399957   \n",
      "min           65.000000                 4.000000               0.000000   \n",
      "25%           69.000000                10.000000               6.400000   \n",
      "50%           76.000000                24.000000               7.400000   \n",
      "75%           85.000000                50.000000               8.100000   \n",
      "max           98.000000               145.000000               9.500000   \n",
      "\n",
      "       metacritic_user_rating_count  playstation_rating_count  \n",
      "count                    880.000000               2557.000000  \n",
      "mean                    1053.763636               7397.913571  \n",
      "std                     6258.632676              30801.669081  \n",
      "min                        0.000000                  1.000000  \n",
      "25%                       17.000000                 74.000000  \n",
      "50%                       76.000000                528.000000  \n",
      "75%                      370.750000               3103.000000  \n",
      "max                   165959.000000             854788.000000  \n",
      "==========================================================================================\n",
      "descrption for non integer columne \n",
      "                           game_name highest_price release_date genre  \\\n",
      "count                           3526          3415         3526  3526   \n",
      "unique                          3270            62         1731   290   \n",
      "top     LocoRoco™-Midnight Carnival-        €19.99  Jan 1, 1970    --   \n",
      "freq                               3           551           30   519   \n",
      "\n",
      "                                    publisher platform playstation_score  \n",
      "count                                    3471     3526              3526  \n",
      "unique                                    767       15               205  \n",
      "top     Sony Interactive Entertainment Europe      PS4                --  \n",
      "freq                                      210     1687               969  \n",
      "==========================================================================================\n"
     ]
    }
   ],
   "source": [
    "# lets dive in the dataset\n",
    "print(f\"Shape of dataset {df.shape}\")\n",
    "print(\"===\"*30)\n",
    "print(f\"Feature name are {list(df.columns)}\")\n",
    "print(\"===\"*30)\n",
    "print(f\"datatypes of each feature \\n {df.dtypes}\")\n",
    "print(\"===\"*30)\n",
    "print(f\"numerical datatypes features are {df.select_dtypes(include = np.number).columns.tolist()}\")\n",
    "print(\"===\"*30)\n",
    "print(f\"object datatypes feature are {df.select_dtypes(include = 'O').columns.tolist()}\")\n",
    "print(\"===\"*30)\n",
    "print(f\"Information of dataset {df.info()}\")\n",
    "print(\"===\"*30)\n",
    "print(f\"describtion of numerical columns \\n {df.describe()}\")\n",
    "print(\"===\"*30)\n",
    "print(f\"descrption for non integer columne \\n{df.describe(include = 'O')}\")\n",
    "print(\"===\"*30)"
   ]
  },
  {
   "cell_type": "code",
   "execution_count": 5,
   "id": "ec3bdbf5",
   "metadata": {
    "execution": {
     "iopub.execute_input": "2025-10-08T04:19:27.150360Z",
     "iopub.status.busy": "2025-10-08T04:19:27.150022Z",
     "iopub.status.idle": "2025-10-08T04:19:27.174766Z",
     "shell.execute_reply": "2025-10-08T04:19:27.173460Z"
    },
    "papermill": {
     "duration": 0.034869,
     "end_time": "2025-10-08T04:19:27.176646",
     "exception": false,
     "start_time": "2025-10-08T04:19:27.141777",
     "status": "completed"
    },
    "tags": []
   },
   "outputs": [
    {
     "name": "stdout",
     "output_type": "stream",
     "text": [
      "============================================================\n",
      "for column game_name\n",
      "    null values count :0, null value percentage 0.00\n",
      "    unique values count :3270\n",
      "============================================================\n",
      "for column highest_price\n",
      "    null values count :111, null value percentage 3.15\n",
      "    unique values count :62\n",
      "============================================================\n",
      "for column release_date\n",
      "    null values count :0, null value percentage 0.00\n",
      "    unique values count :1731\n",
      "============================================================\n",
      "for column genre\n",
      "    null values count :0, null value percentage 0.00\n",
      "    unique values count :290\n",
      "============================================================\n",
      "for column publisher\n",
      "    null values count :55, null value percentage 1.56\n",
      "    unique values count :767\n",
      "============================================================\n",
      "for column platform\n",
      "    null values count :0, null value percentage 0.00\n",
      "    unique values count :15\n",
      "============================================================\n",
      "for column metacritic_score\n",
      "    null values count :2647, null value percentage 75.07\n",
      "    unique values count :34\n",
      "============================================================\n",
      "for column metacritic_rating_count\n",
      "    null values count :2647, null value percentage 75.07\n",
      "    unique values count :106\n",
      "============================================================\n",
      "for column metacritic_user_score\n",
      "    null values count :2646, null value percentage 75.04\n",
      "    unique values count :65\n",
      "============================================================\n",
      "for column metacritic_user_rating_count\n",
      "    null values count :2646, null value percentage 75.04\n",
      "    unique values count :420\n",
      "============================================================\n",
      "for column playstation_score\n",
      "    null values count :0, null value percentage 0.00\n",
      "    unique values count :205\n",
      "============================================================\n",
      "for column playstation_rating_count\n",
      "    null values count :969, null value percentage 27.48\n",
      "    unique values count :1541\n"
     ]
    }
   ],
   "source": [
    "# lets check the value distribution and null values in the dataset\n",
    "for col in df.columns:\n",
    "    print(\"==\"*30)\n",
    "    print(f\"for column {col}\")\n",
    "    print(f\"    null values count :{df[col].isna().sum()}, null value percentage {df[col].isna().mean()*100 :.2f}\")\n",
    "    print(f\"    unique values count :{df[col].nunique()}\")\n",
    "    "
   ]
  },
  {
   "cell_type": "markdown",
   "id": "b9e26e98",
   "metadata": {
    "papermill": {
     "duration": 0.007523,
     "end_time": "2025-10-08T04:19:27.191317",
     "exception": false,
     "start_time": "2025-10-08T04:19:27.183794",
     "status": "completed"
    },
    "tags": []
   },
   "source": [
    "## Dataset Summary\n",
    "\n",
    "- **Total records:** 3526  \n",
    "- **Total features:** 12\n",
    "\n",
    "### Features Overview\n",
    "\n",
    "| Feature                    | Type    | Non-Null Count | Unique Values | Notes                 |\n",
    "|----------------------------|---------|----------------|---------------|-----------------------|\n",
    "| game_name                  | Object  | 3526           | 3270          |                       |\n",
    "| highest_price              | Object  | 3415           | 62            | 3.15% missing         |\n",
    "| release_date              | Object  | 3526           | 1731          |                       |\n",
    "| genre                     | Object  | 3526           | 290           |                       |\n",
    "| publisher                 | Object  | 3471           | 767           | 1.56% missing         |\n",
    "| platform                  | Object  | 3526           | 15            |                       |\n",
    "| metacritic_score          | Float64 | 879            | 34            | 75.07% missing        |\n",
    "| metacritic_rating_count   | Float64 | 879            | 106           | 75.07% missing        |\n",
    "| metacritic_user_score     | Float64 | 880            | 65            | 75.04% missing        |\n",
    "| metacritic_user_rating_count | Float64 | 880         | 420           | 75.04% missing        |\n",
    "| playstation_score         | Object  | 3526           | 205           |                       |\n",
    "| playstation_rating_count  | Float64 | 2557           | 1541          | 27.48% missing        |\n",
    "\n",
    "### Numerical Features Stats (selected)\n",
    "\n",
    "| Feature                   | Count | Mean     | Std       | Min  | 25%   | 50%   | 75%   | Max     |\n",
    "|---------------------------|-------|----------|-----------|------|-------|-------|-------|---------|\n",
    "| metacritic_score          | 879   | 77.47    | 9.00      | 65   | 69    | 76    | 85    | 98      |\n",
    "| metacritic_user_score     | 880   | 6.65     | 2.40      | 0    | 6.4   | 7.4   | 8.1   | 9.5     |\n",
    "| playstation_rating_count  | 2557  | 7397.91  | 30801.67  | 1    | 74    | 528   | 3103  | 854788  |\n",
    "\n",
    "### Notes\n",
    "- High missing values in Metacritic scores and user ratings (~75% missing).\n",
    "- publisher and highest_price have small missing percentages (~1.5%-3%).\n",
    "- Object types typically include textual and categorical data.\n",
    "\n"
   ]
  },
  {
   "cell_type": "code",
   "execution_count": 6,
   "id": "d008d314",
   "metadata": {
    "execution": {
     "iopub.execute_input": "2025-10-08T04:19:27.206968Z",
     "iopub.status.busy": "2025-10-08T04:19:27.206583Z",
     "iopub.status.idle": "2025-10-08T04:19:27.212007Z",
     "shell.execute_reply": "2025-10-08T04:19:27.210490Z"
    },
    "papermill": {
     "duration": 0.015289,
     "end_time": "2025-10-08T04:19:27.214200",
     "exception": false,
     "start_time": "2025-10-08T04:19:27.198911",
     "status": "completed"
    },
    "tags": []
   },
   "outputs": [],
   "source": [
    "# here feature having high misssing values are not infromative for us because they may cause for biased result if we fill there null values "
   ]
  },
  {
   "cell_type": "code",
   "execution_count": 7,
   "id": "5af6b791",
   "metadata": {
    "execution": {
     "iopub.execute_input": "2025-10-08T04:19:27.230737Z",
     "iopub.status.busy": "2025-10-08T04:19:27.230221Z",
     "iopub.status.idle": "2025-10-08T04:19:27.256842Z",
     "shell.execute_reply": "2025-10-08T04:19:27.255325Z"
    },
    "papermill": {
     "duration": 0.037662,
     "end_time": "2025-10-08T04:19:27.259315",
     "exception": false,
     "start_time": "2025-10-08T04:19:27.221653",
     "status": "completed"
    },
    "tags": []
   },
   "outputs": [
    {
     "data": {
      "text/html": [
       "<div>\n",
       "<style scoped>\n",
       "    .dataframe tbody tr th:only-of-type {\n",
       "        vertical-align: middle;\n",
       "    }\n",
       "\n",
       "    .dataframe tbody tr th {\n",
       "        vertical-align: top;\n",
       "    }\n",
       "\n",
       "    .dataframe thead th {\n",
       "        text-align: right;\n",
       "    }\n",
       "</style>\n",
       "<table border=\"1\" class=\"dataframe\">\n",
       "  <thead>\n",
       "    <tr style=\"text-align: right;\">\n",
       "      <th></th>\n",
       "      <th>game_name</th>\n",
       "      <th>highest_price</th>\n",
       "      <th>release_date</th>\n",
       "      <th>genre</th>\n",
       "      <th>publisher</th>\n",
       "      <th>platform</th>\n",
       "      <th>metacritic_score</th>\n",
       "      <th>metacritic_rating_count</th>\n",
       "      <th>metacritic_user_score</th>\n",
       "      <th>metacritic_user_rating_count</th>\n",
       "      <th>playstation_score</th>\n",
       "      <th>playstation_rating_count</th>\n",
       "    </tr>\n",
       "  </thead>\n",
       "  <tbody>\n",
       "    <tr>\n",
       "      <th>0</th>\n",
       "      <td>Grand Theft Auto IV</td>\n",
       "      <td>€24.99</td>\n",
       "      <td>Feb 15, 2012</td>\n",
       "      <td>Action / Shooter / Racing</td>\n",
       "      <td>Rockstar</td>\n",
       "      <td>PS3</td>\n",
       "      <td>98.0</td>\n",
       "      <td>86.0</td>\n",
       "      <td>8.3</td>\n",
       "      <td>5541.0</td>\n",
       "      <td>4.32</td>\n",
       "      <td>48904.0</td>\n",
       "    </tr>\n",
       "    <tr>\n",
       "      <th>1</th>\n",
       "      <td>Red Dead Redemption 2</td>\n",
       "      <td>€59.99</td>\n",
       "      <td>Oct 26, 2018</td>\n",
       "      <td>Action / Adventure / Unique</td>\n",
       "      <td>Rockstar Games</td>\n",
       "      <td>PS4</td>\n",
       "      <td>97.0</td>\n",
       "      <td>99.0</td>\n",
       "      <td>8.9</td>\n",
       "      <td>31932.0</td>\n",
       "      <td>4.74</td>\n",
       "      <td>379257.0</td>\n",
       "    </tr>\n",
       "    <tr>\n",
       "      <th>2</th>\n",
       "      <td>Red Dead Online</td>\n",
       "      <td>€69.99</td>\n",
       "      <td>Oct 29, 2018</td>\n",
       "      <td>Action / Adventure</td>\n",
       "      <td>Rockstar Games</td>\n",
       "      <td>PS4</td>\n",
       "      <td>97.0</td>\n",
       "      <td>99.0</td>\n",
       "      <td>8.9</td>\n",
       "      <td>31932.0</td>\n",
       "      <td>4.74</td>\n",
       "      <td>379346.0</td>\n",
       "    </tr>\n",
       "    <tr>\n",
       "      <th>3</th>\n",
       "      <td>Grand Theft Auto 3</td>\n",
       "      <td>€9.99</td>\n",
       "      <td>Oct 4, 2012</td>\n",
       "      <td>--</td>\n",
       "      <td>Rockstar Games</td>\n",
       "      <td>PS3</td>\n",
       "      <td>97.0</td>\n",
       "      <td>56.0</td>\n",
       "      <td>8.0</td>\n",
       "      <td>2079.0</td>\n",
       "      <td>4.59</td>\n",
       "      <td>1437.0</td>\n",
       "    </tr>\n",
       "    <tr>\n",
       "      <th>4</th>\n",
       "      <td>Grand Theft Auto V</td>\n",
       "      <td>€69.99</td>\n",
       "      <td>Sep 17, 2013</td>\n",
       "      <td>Action / Adventure</td>\n",
       "      <td>Rockstar Games</td>\n",
       "      <td>PS3</td>\n",
       "      <td>97.0</td>\n",
       "      <td>66.0</td>\n",
       "      <td>8.5</td>\n",
       "      <td>14322.0</td>\n",
       "      <td>4.65</td>\n",
       "      <td>40895.0</td>\n",
       "    </tr>\n",
       "    <tr>\n",
       "      <th>...</th>\n",
       "      <td>...</td>\n",
       "      <td>...</td>\n",
       "      <td>...</td>\n",
       "      <td>...</td>\n",
       "      <td>...</td>\n",
       "      <td>...</td>\n",
       "      <td>...</td>\n",
       "      <td>...</td>\n",
       "      <td>...</td>\n",
       "      <td>...</td>\n",
       "      <td>...</td>\n",
       "      <td>...</td>\n",
       "    </tr>\n",
       "    <tr>\n",
       "      <th>3521</th>\n",
       "      <td>SENRAN KAGURA Burst Re:Newal</td>\n",
       "      <td>€39.99</td>\n",
       "      <td>Jan 18, 2019</td>\n",
       "      <td>Action</td>\n",
       "      <td>Marvelous Europe Limited</td>\n",
       "      <td>PS4</td>\n",
       "      <td>65.0</td>\n",
       "      <td>19.0</td>\n",
       "      <td>5.6</td>\n",
       "      <td>65.0</td>\n",
       "      <td>4.69</td>\n",
       "      <td>2485.0</td>\n",
       "    </tr>\n",
       "    <tr>\n",
       "      <th>3522</th>\n",
       "      <td>Smash Hit Plunder</td>\n",
       "      <td>€29.99</td>\n",
       "      <td>Oct 5, 2018</td>\n",
       "      <td>Arcade / Unique / Family</td>\n",
       "      <td>TRIANGULAR PIXELS LTD</td>\n",
       "      <td>PS4</td>\n",
       "      <td>NaN</td>\n",
       "      <td>NaN</td>\n",
       "      <td>NaN</td>\n",
       "      <td>NaN</td>\n",
       "      <td>4.29</td>\n",
       "      <td>7.0</td>\n",
       "    </tr>\n",
       "    <tr>\n",
       "      <th>3523</th>\n",
       "      <td>FOX n FORESTS</td>\n",
       "      <td>€19.99</td>\n",
       "      <td>May 17, 2018</td>\n",
       "      <td>Action / Role playing games / Adventure</td>\n",
       "      <td>ASTRAGON ENTERTAINMENT GMBH</td>\n",
       "      <td>PS4</td>\n",
       "      <td>NaN</td>\n",
       "      <td>NaN</td>\n",
       "      <td>NaN</td>\n",
       "      <td>NaN</td>\n",
       "      <td>4.22</td>\n",
       "      <td>50.0</td>\n",
       "    </tr>\n",
       "    <tr>\n",
       "      <th>3524</th>\n",
       "      <td>DYNASTY WARRIORS 9</td>\n",
       "      <td>€69.99</td>\n",
       "      <td>Mar 13, 2018</td>\n",
       "      <td>Action</td>\n",
       "      <td>Koei Tecmo Europe Ltd</td>\n",
       "      <td>PS4</td>\n",
       "      <td>NaN</td>\n",
       "      <td>NaN</td>\n",
       "      <td>NaN</td>\n",
       "      <td>NaN</td>\n",
       "      <td>3.49</td>\n",
       "      <td>12177.0</td>\n",
       "    </tr>\n",
       "    <tr>\n",
       "      <th>3525</th>\n",
       "      <td>Vostok Inc.</td>\n",
       "      <td>€14.99</td>\n",
       "      <td>Sep 22, 2017</td>\n",
       "      <td>Action / Arcade / Casual</td>\n",
       "      <td>Badland Publishing</td>\n",
       "      <td>PS Vita</td>\n",
       "      <td>NaN</td>\n",
       "      <td>NaN</td>\n",
       "      <td>NaN</td>\n",
       "      <td>NaN</td>\n",
       "      <td>5</td>\n",
       "      <td>1.0</td>\n",
       "    </tr>\n",
       "  </tbody>\n",
       "</table>\n",
       "<p>3526 rows × 12 columns</p>\n",
       "</div>"
      ],
      "text/plain": [
       "                         game_name highest_price  release_date  \\\n",
       "0              Grand Theft Auto IV        €24.99  Feb 15, 2012   \n",
       "1            Red Dead Redemption 2        €59.99  Oct 26, 2018   \n",
       "2                  Red Dead Online        €69.99  Oct 29, 2018   \n",
       "3               Grand Theft Auto 3         €9.99   Oct 4, 2012   \n",
       "4               Grand Theft Auto V        €69.99  Sep 17, 2013   \n",
       "...                            ...           ...           ...   \n",
       "3521  SENRAN KAGURA Burst Re:Newal        €39.99  Jan 18, 2019   \n",
       "3522             Smash Hit Plunder        €29.99   Oct 5, 2018   \n",
       "3523                 FOX n FORESTS        €19.99  May 17, 2018   \n",
       "3524            DYNASTY WARRIORS 9        €69.99  Mar 13, 2018   \n",
       "3525                   Vostok Inc.        €14.99  Sep 22, 2017   \n",
       "\n",
       "                                        genre                    publisher  \\\n",
       "0                   Action / Shooter / Racing                     Rockstar   \n",
       "1                 Action / Adventure / Unique               Rockstar Games   \n",
       "2                          Action / Adventure               Rockstar Games   \n",
       "3                                          --               Rockstar Games   \n",
       "4                          Action / Adventure               Rockstar Games   \n",
       "...                                       ...                          ...   \n",
       "3521                                   Action     Marvelous Europe Limited   \n",
       "3522                 Arcade / Unique / Family        TRIANGULAR PIXELS LTD   \n",
       "3523  Action / Role playing games / Adventure  ASTRAGON ENTERTAINMENT GMBH   \n",
       "3524                                   Action        Koei Tecmo Europe Ltd   \n",
       "3525                 Action / Arcade / Casual           Badland Publishing   \n",
       "\n",
       "     platform  metacritic_score  metacritic_rating_count  \\\n",
       "0         PS3              98.0                     86.0   \n",
       "1         PS4              97.0                     99.0   \n",
       "2         PS4              97.0                     99.0   \n",
       "3         PS3              97.0                     56.0   \n",
       "4         PS3              97.0                     66.0   \n",
       "...       ...               ...                      ...   \n",
       "3521      PS4              65.0                     19.0   \n",
       "3522      PS4               NaN                      NaN   \n",
       "3523      PS4               NaN                      NaN   \n",
       "3524      PS4               NaN                      NaN   \n",
       "3525  PS Vita               NaN                      NaN   \n",
       "\n",
       "      metacritic_user_score  metacritic_user_rating_count playstation_score  \\\n",
       "0                       8.3                        5541.0              4.32   \n",
       "1                       8.9                       31932.0              4.74   \n",
       "2                       8.9                       31932.0              4.74   \n",
       "3                       8.0                        2079.0              4.59   \n",
       "4                       8.5                       14322.0              4.65   \n",
       "...                     ...                           ...               ...   \n",
       "3521                    5.6                          65.0              4.69   \n",
       "3522                    NaN                           NaN              4.29   \n",
       "3523                    NaN                           NaN              4.22   \n",
       "3524                    NaN                           NaN              3.49   \n",
       "3525                    NaN                           NaN                 5   \n",
       "\n",
       "      playstation_rating_count  \n",
       "0                      48904.0  \n",
       "1                     379257.0  \n",
       "2                     379346.0  \n",
       "3                       1437.0  \n",
       "4                      40895.0  \n",
       "...                        ...  \n",
       "3521                    2485.0  \n",
       "3522                       7.0  \n",
       "3523                      50.0  \n",
       "3524                   12177.0  \n",
       "3525                       1.0  \n",
       "\n",
       "[3526 rows x 12 columns]"
      ]
     },
     "execution_count": 7,
     "metadata": {},
     "output_type": "execute_result"
    }
   ],
   "source": [
    "df"
   ]
  },
  {
   "cell_type": "code",
   "execution_count": 8,
   "id": "c935462f",
   "metadata": {
    "execution": {
     "iopub.execute_input": "2025-10-08T04:19:27.275829Z",
     "iopub.status.busy": "2025-10-08T04:19:27.274617Z",
     "iopub.status.idle": "2025-10-08T04:19:27.283060Z",
     "shell.execute_reply": "2025-10-08T04:19:27.281615Z"
    },
    "papermill": {
     "duration": 0.01875,
     "end_time": "2025-10-08T04:19:27.285281",
     "exception": false,
     "start_time": "2025-10-08T04:19:27.266531",
     "status": "completed"
    },
    "tags": []
   },
   "outputs": [],
   "source": [
    "# lets drop [\"metacritic_score\",\"metacritic_rating_count\",\"metacritic_user_score\",\"metacritic_user_rating_count\"]\n",
    "df.drop(columns =[\"metacritic_score\",\"metacritic_rating_count\",\"metacritic_user_score\",\"metacritic_user_rating_count\",\"playstation_rating_count\"],inplace = True )"
   ]
  },
  {
   "cell_type": "code",
   "execution_count": 9,
   "id": "c2565a7a",
   "metadata": {
    "execution": {
     "iopub.execute_input": "2025-10-08T04:19:27.302457Z",
     "iopub.status.busy": "2025-10-08T04:19:27.302094Z",
     "iopub.status.idle": "2025-10-08T04:19:27.319261Z",
     "shell.execute_reply": "2025-10-08T04:19:27.317470Z"
    },
    "papermill": {
     "duration": 0.02886,
     "end_time": "2025-10-08T04:19:27.321568",
     "exception": false,
     "start_time": "2025-10-08T04:19:27.292708",
     "status": "completed"
    },
    "tags": []
   },
   "outputs": [
    {
     "data": {
      "text/html": [
       "<div>\n",
       "<style scoped>\n",
       "    .dataframe tbody tr th:only-of-type {\n",
       "        vertical-align: middle;\n",
       "    }\n",
       "\n",
       "    .dataframe tbody tr th {\n",
       "        vertical-align: top;\n",
       "    }\n",
       "\n",
       "    .dataframe thead th {\n",
       "        text-align: right;\n",
       "    }\n",
       "</style>\n",
       "<table border=\"1\" class=\"dataframe\">\n",
       "  <thead>\n",
       "    <tr style=\"text-align: right;\">\n",
       "      <th></th>\n",
       "      <th>game_name</th>\n",
       "      <th>highest_price</th>\n",
       "      <th>release_date</th>\n",
       "      <th>genre</th>\n",
       "      <th>publisher</th>\n",
       "      <th>platform</th>\n",
       "      <th>playstation_score</th>\n",
       "    </tr>\n",
       "  </thead>\n",
       "  <tbody>\n",
       "    <tr>\n",
       "      <th>0</th>\n",
       "      <td>Grand Theft Auto IV</td>\n",
       "      <td>€24.99</td>\n",
       "      <td>Feb 15, 2012</td>\n",
       "      <td>Action / Shooter / Racing</td>\n",
       "      <td>Rockstar</td>\n",
       "      <td>PS3</td>\n",
       "      <td>4.32</td>\n",
       "    </tr>\n",
       "    <tr>\n",
       "      <th>1</th>\n",
       "      <td>Red Dead Redemption 2</td>\n",
       "      <td>€59.99</td>\n",
       "      <td>Oct 26, 2018</td>\n",
       "      <td>Action / Adventure / Unique</td>\n",
       "      <td>Rockstar Games</td>\n",
       "      <td>PS4</td>\n",
       "      <td>4.74</td>\n",
       "    </tr>\n",
       "    <tr>\n",
       "      <th>2</th>\n",
       "      <td>Red Dead Online</td>\n",
       "      <td>€69.99</td>\n",
       "      <td>Oct 29, 2018</td>\n",
       "      <td>Action / Adventure</td>\n",
       "      <td>Rockstar Games</td>\n",
       "      <td>PS4</td>\n",
       "      <td>4.74</td>\n",
       "    </tr>\n",
       "    <tr>\n",
       "      <th>3</th>\n",
       "      <td>Grand Theft Auto 3</td>\n",
       "      <td>€9.99</td>\n",
       "      <td>Oct 4, 2012</td>\n",
       "      <td>--</td>\n",
       "      <td>Rockstar Games</td>\n",
       "      <td>PS3</td>\n",
       "      <td>4.59</td>\n",
       "    </tr>\n",
       "    <tr>\n",
       "      <th>4</th>\n",
       "      <td>Grand Theft Auto V</td>\n",
       "      <td>€69.99</td>\n",
       "      <td>Sep 17, 2013</td>\n",
       "      <td>Action / Adventure</td>\n",
       "      <td>Rockstar Games</td>\n",
       "      <td>PS3</td>\n",
       "      <td>4.65</td>\n",
       "    </tr>\n",
       "    <tr>\n",
       "      <th>...</th>\n",
       "      <td>...</td>\n",
       "      <td>...</td>\n",
       "      <td>...</td>\n",
       "      <td>...</td>\n",
       "      <td>...</td>\n",
       "      <td>...</td>\n",
       "      <td>...</td>\n",
       "    </tr>\n",
       "    <tr>\n",
       "      <th>3521</th>\n",
       "      <td>SENRAN KAGURA Burst Re:Newal</td>\n",
       "      <td>€39.99</td>\n",
       "      <td>Jan 18, 2019</td>\n",
       "      <td>Action</td>\n",
       "      <td>Marvelous Europe Limited</td>\n",
       "      <td>PS4</td>\n",
       "      <td>4.69</td>\n",
       "    </tr>\n",
       "    <tr>\n",
       "      <th>3522</th>\n",
       "      <td>Smash Hit Plunder</td>\n",
       "      <td>€29.99</td>\n",
       "      <td>Oct 5, 2018</td>\n",
       "      <td>Arcade / Unique / Family</td>\n",
       "      <td>TRIANGULAR PIXELS LTD</td>\n",
       "      <td>PS4</td>\n",
       "      <td>4.29</td>\n",
       "    </tr>\n",
       "    <tr>\n",
       "      <th>3523</th>\n",
       "      <td>FOX n FORESTS</td>\n",
       "      <td>€19.99</td>\n",
       "      <td>May 17, 2018</td>\n",
       "      <td>Action / Role playing games / Adventure</td>\n",
       "      <td>ASTRAGON ENTERTAINMENT GMBH</td>\n",
       "      <td>PS4</td>\n",
       "      <td>4.22</td>\n",
       "    </tr>\n",
       "    <tr>\n",
       "      <th>3524</th>\n",
       "      <td>DYNASTY WARRIORS 9</td>\n",
       "      <td>€69.99</td>\n",
       "      <td>Mar 13, 2018</td>\n",
       "      <td>Action</td>\n",
       "      <td>Koei Tecmo Europe Ltd</td>\n",
       "      <td>PS4</td>\n",
       "      <td>3.49</td>\n",
       "    </tr>\n",
       "    <tr>\n",
       "      <th>3525</th>\n",
       "      <td>Vostok Inc.</td>\n",
       "      <td>€14.99</td>\n",
       "      <td>Sep 22, 2017</td>\n",
       "      <td>Action / Arcade / Casual</td>\n",
       "      <td>Badland Publishing</td>\n",
       "      <td>PS Vita</td>\n",
       "      <td>5</td>\n",
       "    </tr>\n",
       "  </tbody>\n",
       "</table>\n",
       "<p>3526 rows × 7 columns</p>\n",
       "</div>"
      ],
      "text/plain": [
       "                         game_name highest_price  release_date  \\\n",
       "0              Grand Theft Auto IV        €24.99  Feb 15, 2012   \n",
       "1            Red Dead Redemption 2        €59.99  Oct 26, 2018   \n",
       "2                  Red Dead Online        €69.99  Oct 29, 2018   \n",
       "3               Grand Theft Auto 3         €9.99   Oct 4, 2012   \n",
       "4               Grand Theft Auto V        €69.99  Sep 17, 2013   \n",
       "...                            ...           ...           ...   \n",
       "3521  SENRAN KAGURA Burst Re:Newal        €39.99  Jan 18, 2019   \n",
       "3522             Smash Hit Plunder        €29.99   Oct 5, 2018   \n",
       "3523                 FOX n FORESTS        €19.99  May 17, 2018   \n",
       "3524            DYNASTY WARRIORS 9        €69.99  Mar 13, 2018   \n",
       "3525                   Vostok Inc.        €14.99  Sep 22, 2017   \n",
       "\n",
       "                                        genre                    publisher  \\\n",
       "0                   Action / Shooter / Racing                     Rockstar   \n",
       "1                 Action / Adventure / Unique               Rockstar Games   \n",
       "2                          Action / Adventure               Rockstar Games   \n",
       "3                                          --               Rockstar Games   \n",
       "4                          Action / Adventure               Rockstar Games   \n",
       "...                                       ...                          ...   \n",
       "3521                                   Action     Marvelous Europe Limited   \n",
       "3522                 Arcade / Unique / Family        TRIANGULAR PIXELS LTD   \n",
       "3523  Action / Role playing games / Adventure  ASTRAGON ENTERTAINMENT GMBH   \n",
       "3524                                   Action        Koei Tecmo Europe Ltd   \n",
       "3525                 Action / Arcade / Casual           Badland Publishing   \n",
       "\n",
       "     platform playstation_score  \n",
       "0         PS3              4.32  \n",
       "1         PS4              4.74  \n",
       "2         PS4              4.74  \n",
       "3         PS3              4.59  \n",
       "4         PS3              4.65  \n",
       "...       ...               ...  \n",
       "3521      PS4              4.69  \n",
       "3522      PS4              4.29  \n",
       "3523      PS4              4.22  \n",
       "3524      PS4              3.49  \n",
       "3525  PS Vita                 5  \n",
       "\n",
       "[3526 rows x 7 columns]"
      ]
     },
     "execution_count": 9,
     "metadata": {},
     "output_type": "execute_result"
    }
   ],
   "source": [
    "df"
   ]
  },
  {
   "cell_type": "code",
   "execution_count": 10,
   "id": "079ef031",
   "metadata": {
    "execution": {
     "iopub.execute_input": "2025-10-08T04:19:27.339034Z",
     "iopub.status.busy": "2025-10-08T04:19:27.337950Z",
     "iopub.status.idle": "2025-10-08T04:19:27.354962Z",
     "shell.execute_reply": "2025-10-08T04:19:27.353409Z"
    },
    "papermill": {
     "duration": 0.028126,
     "end_time": "2025-10-08T04:19:27.357582",
     "exception": false,
     "start_time": "2025-10-08T04:19:27.329456",
     "status": "completed"
    },
    "tags": []
   },
   "outputs": [
    {
     "name": "stdout",
     "output_type": "stream",
     "text": [
      "game_name            False\n",
      "highest_price        False\n",
      "release_date         False\n",
      "genre                 True\n",
      "publisher            False\n",
      "platform             False\n",
      "playstation_score     True\n",
      "dtype: bool\n"
     ]
    }
   ],
   "source": [
    "print((df == '--').any())\n",
    "# lets \n",
    "df[\"playstation_score\"].replace(\"--\",np.nan,inplace = True)\n",
    "df[\"genre\"].replace(\"--\",np.nan,inplace = True)\n"
   ]
  },
  {
   "cell_type": "code",
   "execution_count": 11,
   "id": "6feb4d81",
   "metadata": {
    "execution": {
     "iopub.execute_input": "2025-10-08T04:19:27.375949Z",
     "iopub.status.busy": "2025-10-08T04:19:27.375595Z",
     "iopub.status.idle": "2025-10-08T04:19:27.386377Z",
     "shell.execute_reply": "2025-10-08T04:19:27.385029Z"
    },
    "papermill": {
     "duration": 0.021467,
     "end_time": "2025-10-08T04:19:27.388274",
     "exception": false,
     "start_time": "2025-10-08T04:19:27.366807",
     "status": "completed"
    },
    "tags": []
   },
   "outputs": [
    {
     "data": {
      "text/plain": [
       "game_name              0\n",
       "highest_price        111\n",
       "release_date           0\n",
       "genre                519\n",
       "publisher             55\n",
       "platform               0\n",
       "playstation_score    969\n",
       "dtype: int64"
      ]
     },
     "execution_count": 11,
     "metadata": {},
     "output_type": "execute_result"
    }
   ],
   "source": [
    "# lets check again for null values \n",
    "df.isna().sum()"
   ]
  },
  {
   "cell_type": "code",
   "execution_count": 12,
   "id": "a5806d23",
   "metadata": {
    "execution": {
     "iopub.execute_input": "2025-10-08T04:19:27.405664Z",
     "iopub.status.busy": "2025-10-08T04:19:27.405302Z",
     "iopub.status.idle": "2025-10-08T04:19:27.420672Z",
     "shell.execute_reply": "2025-10-08T04:19:27.418737Z"
    },
    "papermill": {
     "duration": 0.027304,
     "end_time": "2025-10-08T04:19:27.423002",
     "exception": false,
     "start_time": "2025-10-08T04:19:27.395698",
     "status": "completed"
    },
    "tags": []
   },
   "outputs": [
    {
     "name": "stdout",
     "output_type": "stream",
     "text": [
      "float64\n"
     ]
    }
   ],
   "source": [
    "# Remove the '€' sign and convert column to float\n",
    "df['highest_price'] = df['highest_price'].str.replace('€', '', regex=False).str.strip()\n",
    "\n",
    "# Convert to float\n",
    "df['highest_price'] = pd.to_numeric(df['highest_price'], errors='coerce')\n",
    "\n",
    "print(df['highest_price'].dtype)"
   ]
  },
  {
   "cell_type": "code",
   "execution_count": 13,
   "id": "ecf8d45f",
   "metadata": {
    "execution": {
     "iopub.execute_input": "2025-10-08T04:19:27.445233Z",
     "iopub.status.busy": "2025-10-08T04:19:27.442788Z",
     "iopub.status.idle": "2025-10-08T04:19:27.455564Z",
     "shell.execute_reply": "2025-10-08T04:19:27.453422Z"
    },
    "papermill": {
     "duration": 0.025658,
     "end_time": "2025-10-08T04:19:27.457651",
     "exception": false,
     "start_time": "2025-10-08T04:19:27.431993",
     "status": "completed"
    },
    "tags": []
   },
   "outputs": [],
   "source": [
    "# lets fill the null values\n",
    "median_price = df['highest_price'].median()\n",
    "df['highest_price'].fillna(median_price, inplace=True)\n",
    "\n",
    "df['playstation_score'] = pd.to_numeric(df['playstation_score'], errors='coerce')\n",
    "median_price = df['playstation_score'].median()\n",
    "df['playstation_score'].fillna(median_price, inplace=True)"
   ]
  },
  {
   "cell_type": "code",
   "execution_count": 14,
   "id": "deec762e",
   "metadata": {
    "execution": {
     "iopub.execute_input": "2025-10-08T04:19:27.475971Z",
     "iopub.status.busy": "2025-10-08T04:19:27.475625Z",
     "iopub.status.idle": "2025-10-08T04:19:27.533733Z",
     "shell.execute_reply": "2025-10-08T04:19:27.532683Z"
    },
    "papermill": {
     "duration": 0.068959,
     "end_time": "2025-10-08T04:19:27.536470",
     "exception": false,
     "start_time": "2025-10-08T04:19:27.467511",
     "status": "completed"
    },
    "tags": []
   },
   "outputs": [
    {
     "name": "stdout",
     "output_type": "stream",
     "text": [
      "23\n"
     ]
    }
   ],
   "source": [
    "## Replace missing genre placeholders\n",
    "df['genre'] = df['genre'].replace('--', '')\n",
    "\n",
    "# Generate dummy columns for each genre\n",
    "genre_dummies = df['genre'].str.get_dummies(sep=' / ')\n",
    "print(len(genre_dummies.columns))\n",
    "\n",
    "# Add dummy columns to dataframe\n",
    "df = pd.concat([df, genre_dummies], axis=1)\n",
    "\n",
    "# Add a column with count of genres\n",
    "df['genre_count'] = genre_dummies.sum(axis=1)\n"
   ]
  },
  {
   "cell_type": "code",
   "execution_count": 15,
   "id": "8fefd2cc",
   "metadata": {
    "execution": {
     "iopub.execute_input": "2025-10-08T04:19:27.554111Z",
     "iopub.status.busy": "2025-10-08T04:19:27.553738Z",
     "iopub.status.idle": "2025-10-08T04:19:27.560752Z",
     "shell.execute_reply": "2025-10-08T04:19:27.559308Z"
    },
    "papermill": {
     "duration": 0.018694,
     "end_time": "2025-10-08T04:19:27.562715",
     "exception": false,
     "start_time": "2025-10-08T04:19:27.544021",
     "status": "completed"
    },
    "tags": []
   },
   "outputs": [],
   "source": [
    "def frequency(text):\n",
    "    # Split each genre string into list of genres\n",
    "    lists = text.str.split('/')\n",
    "    # print(genre_lists)\n",
    "    # Explode the lists into separate rows\n",
    "    exploded = lists.explode()\n",
    "    # print(exploded)\n",
    "    # Remove extra whitespace\n",
    "    exploded = exploded.str.strip()\n",
    "    # Count frequency of each genre\n",
    "    freq = exploded.value_counts()\n",
    "    # Convert to dictionary\n",
    "    return freq.to_dict()"
   ]
  },
  {
   "cell_type": "code",
   "execution_count": 16,
   "id": "4c2c81d6",
   "metadata": {
    "execution": {
     "iopub.execute_input": "2025-10-08T04:19:27.580462Z",
     "iopub.status.busy": "2025-10-08T04:19:27.579593Z",
     "iopub.status.idle": "2025-10-08T04:19:27.657666Z",
     "shell.execute_reply": "2025-10-08T04:19:27.656499Z"
    },
    "papermill": {
     "duration": 0.089053,
     "end_time": "2025-10-08T04:19:27.659504",
     "exception": false,
     "start_time": "2025-10-08T04:19:27.570451",
     "status": "completed"
    },
    "tags": []
   },
   "outputs": [],
   "source": [
    "data = frequency(df[\"genre\"])"
   ]
  },
  {
   "cell_type": "code",
   "execution_count": 17,
   "id": "4031afc2",
   "metadata": {
    "execution": {
     "iopub.execute_input": "2025-10-08T04:19:27.675473Z",
     "iopub.status.busy": "2025-10-08T04:19:27.675155Z",
     "iopub.status.idle": "2025-10-08T04:19:28.189167Z",
     "shell.execute_reply": "2025-10-08T04:19:28.187939Z"
    },
    "papermill": {
     "duration": 0.524352,
     "end_time": "2025-10-08T04:19:28.191149",
     "exception": false,
     "start_time": "2025-10-08T04:19:27.666797",
     "status": "completed"
    },
    "tags": []
   },
   "outputs": [
    {
     "name": "stdout",
     "output_type": "stream",
     "text": [
      "{'Action': 1388, 'Adventure': 1058, 'Role playing games': 507, 'Shooter': 347, 'Puzzle': 269, 'Arcade': 250, 'Strategy': 210, 'Unique': 181, 'Horror': 158, 'Racing': 141, 'Simulation': 139, 'Fighting': 129, 'Casual': 100, 'Sports': 93, 'Family': 88, 'Music': 64, 'rhythm': 64, 'Party': 50, 'Simulator': 12, 'Educational': 4, 'Adult': 3, 'Brain training': 3, 'Fitness': 2, 'Quiz': 1}\n"
     ]
    },
    {
     "data": {
      "image/png": "[encoded data removed]",
      "text/plain": [
       "<Figure size 1200x600 with 1 Axes>"
      ]
     },
     "metadata": {},
     "output_type": "display_data"
    }
   ],
   "source": [
    "import matplotlib.pyplot as plt \n",
    "print(data)\n",
    "plt.figure(figsize=(12,6))\n",
    "plt.bar(data.keys(),data.values(), color='skyblue')\n",
    "plt.xlabel('Genres')\n",
    "plt.ylabel('Count')\n",
    "plt.title('Genre Frequency Count')\n",
    "plt.xticks(rotation=45, ha='right')\n",
    "plt.tight_layout()\n",
    "plt.show()\n"
   ]
  },
  {
   "cell_type": "code",
   "execution_count": 18,
   "id": "fee989e4",
   "metadata": {
    "execution": {
     "iopub.execute_input": "2025-10-08T04:19:28.209875Z",
     "iopub.status.busy": "2025-10-08T04:19:28.209539Z",
     "iopub.status.idle": "2025-10-08T04:19:30.790101Z",
     "shell.execute_reply": "2025-10-08T04:19:30.788764Z"
    },
    "papermill": {
     "duration": 2.591673,
     "end_time": "2025-10-08T04:19:30.791807",
     "exception": false,
     "start_time": "2025-10-08T04:19:28.200134",
     "status": "completed"
    },
    "tags": []
   },
   "outputs": [
    {
     "name": "stdout",
     "output_type": "stream",
     "text": [
      "platform\n",
      "PS4                          1687\n",
      "PS5 / PS4                     652\n",
      "PS3                           452\n",
      "PS5                           407\n",
      "PS Vita                       161\n",
      "PS4 / PS Vita                  46\n",
      "PS Vita / PSP                  40\n",
      "PS3 / PS Vita / PSP            28\n",
      "PS4 / PS3 / PS Vita            24\n",
      "PSP                            11\n",
      "PS4 / PS3                       8\n",
      "PS3 / PS Vita                   7\n",
      "PS3 / PSP                       1\n",
      "PS5 / PS4 / PS3 / PS Vita       1\n",
      "PS5 / PS4 / PS Vita             1\n",
      "Name: count, dtype: int64\n"
     ]
    },
    {
     "data": {
      "image/png": "[encoded data removed]",
      "text/plain": [
       "<Figure size 1200x800 with 1 Axes>"
      ]
     },
     "metadata": {},
     "output_type": "display_data"
    }
   ],
   "source": [
    "# lets understand platform\n",
    "import seaborn as sns\n",
    "print(df[\"platform\"].value_counts())\n",
    "\n",
    "plt.figure(figsize = (12,8))\n",
    "sns.countplot(x = \"platform\",data = df, palette = \"coolwarm\")\n",
    "plt.title(\"Count plot for platform\")\n",
    "plt.xticks(rotation = 90)\n",
    "plt.show()\n"
   ]
  },
  {
   "cell_type": "code",
   "execution_count": 19,
   "id": "48f5cecc",
   "metadata": {
    "execution": {
     "iopub.execute_input": "2025-10-08T04:19:30.813247Z",
     "iopub.status.busy": "2025-10-08T04:19:30.811863Z",
     "iopub.status.idle": "2025-10-08T04:19:31.038532Z",
     "shell.execute_reply": "2025-10-08T04:19:31.037434Z"
    },
    "papermill": {
     "duration": 0.238976,
     "end_time": "2025-10-08T04:19:31.040274",
     "exception": false,
     "start_time": "2025-10-08T04:19:30.801298",
     "status": "completed"
    },
    "tags": []
   },
   "outputs": [
    {
     "name": "stdout",
     "output_type": "stream",
     "text": [
      "{'PS4': 2419, 'PS5': 1061, 'PS3': 521, 'PS Vita': 308, 'PSP': 80}\n"
     ]
    },
    {
     "data": {
      "image/png": "[encoded data removed]",
      "text/plain": [
       "<Figure size 1200x600 with 1 Axes>"
      ]
     },
     "metadata": {},
     "output_type": "display_data"
    }
   ],
   "source": [
    "# lets count each platform \n",
    "freq_platform = frequency(df[\"platform\"])\n",
    "print(freq_platform)\n",
    "plt.figure(figsize=(12,6))\n",
    "plt.bar(freq_platform.keys(),freq_platform.values(), color='skyblue')\n",
    "plt.xlabel('Genres')\n",
    "plt.ylabel('Count')\n",
    "plt.title('platform Frequency Count')\n",
    "plt.xticks(rotation=45, ha='right')\n",
    "plt.tight_layout()\n",
    "plt.show()"
   ]
  },
  {
   "cell_type": "code",
   "execution_count": 20,
   "id": "1e3b82d8",
   "metadata": {
    "execution": {
     "iopub.execute_input": "2025-10-08T04:19:31.063250Z",
     "iopub.status.busy": "2025-10-08T04:19:31.062853Z",
     "iopub.status.idle": "2025-10-08T04:19:31.089927Z",
     "shell.execute_reply": "2025-10-08T04:19:31.088566Z"
    },
    "papermill": {
     "duration": 0.041557,
     "end_time": "2025-10-08T04:19:31.091974",
     "exception": false,
     "start_time": "2025-10-08T04:19:31.050417",
     "status": "completed"
    },
    "tags": []
   },
   "outputs": [
    {
     "name": "stdout",
     "output_type": "stream",
     "text": [
      "total number of columns = 37\n"
     ]
    }
   ],
   "source": [
    "# lets do feature eng for platform\n",
    "platform_dummies = df['platform'].str.get_dummies(sep=' / ')\n",
    "df = pd.concat([df, platform_dummies], axis=1)\n",
    "df['platform_count'] = platform_dummies.sum(axis=1)\n",
    "df.columns.to_list()\n",
    "print(f\"total number of columns = {len(df.columns.to_list())}\")\n",
    "\n",
    "\n"
   ]
  },
  {
   "cell_type": "code",
   "execution_count": 21,
   "id": "606db318",
   "metadata": {
    "execution": {
     "iopub.execute_input": "2025-10-08T04:19:31.122700Z",
     "iopub.status.busy": "2025-10-08T04:19:31.122051Z",
     "iopub.status.idle": "2025-10-08T04:19:31.159285Z",
     "shell.execute_reply": "2025-10-08T04:19:31.157509Z"
    },
    "papermill": {
     "duration": 0.057395,
     "end_time": "2025-10-08T04:19:31.163172",
     "exception": false,
     "start_time": "2025-10-08T04:19:31.105777",
     "status": "completed"
    },
    "tags": []
   },
   "outputs": [],
   "source": [
    "# lets deal with datetime\n",
    "df['release_date'] = pd.to_datetime(df['release_date'], errors='coerce')\n"
   ]
  },
  {
   "cell_type": "code",
   "execution_count": 22,
   "id": "5c9887fe",
   "metadata": {
    "execution": {
     "iopub.execute_input": "2025-10-08T04:19:31.195813Z",
     "iopub.status.busy": "2025-10-08T04:19:31.195390Z",
     "iopub.status.idle": "2025-10-08T04:19:31.629428Z",
     "shell.execute_reply": "2025-10-08T04:19:31.628127Z"
    },
    "papermill": {
     "duration": 0.452093,
     "end_time": "2025-10-08T04:19:31.631232",
     "exception": false,
     "start_time": "2025-10-08T04:19:31.179139",
     "status": "completed"
    },
    "tags": []
   },
   "outputs": [
    {
     "data": {
      "image/png": "[encoded data removed]",
      "text/plain": [
       "<Figure size 1200x600 with 1 Axes>"
      ]
     },
     "metadata": {},
     "output_type": "display_data"
    }
   ],
   "source": [
    "df['release_year'] = df['release_date'].dt.year\n",
    "df['release_month'] = df['release_date'].dt.month\n",
    "df['release_day_of_week'] = df['release_date'].dt.dayofweek  # Monday=0, Sunday=6\n",
    "\n",
    "# Count games released per year\n",
    "release_year_counts = df['release_year'].value_counts().sort_index()\n",
    "\n",
    "# Plot\n",
    "plt.figure(figsize=(12,6))\n",
    "release_year_counts.plot(kind='bar')\n",
    "plt.xlabel('Release Year')\n",
    "plt.ylabel('Number of Games')\n",
    "plt.title('Number of Games Released Each Year')\n",
    "plt.xticks(rotation=45)\n",
    "plt.tight_layout()\n",
    "plt.show()\n"
   ]
  },
  {
   "cell_type": "code",
   "execution_count": 23,
   "id": "1b93a314",
   "metadata": {
    "execution": {
     "iopub.execute_input": "2025-10-08T04:19:31.654484Z",
     "iopub.status.busy": "2025-10-08T04:19:31.654150Z",
     "iopub.status.idle": "2025-10-08T04:19:31.888384Z",
     "shell.execute_reply": "2025-10-08T04:19:31.886400Z"
    },
    "papermill": {
     "duration": 0.248845,
     "end_time": "2025-10-08T04:19:31.890664",
     "exception": false,
     "start_time": "2025-10-08T04:19:31.641819",
     "status": "completed"
    },
    "tags": []
   },
   "outputs": [],
   "source": [
    "from sklearn.preprocessing import LabelEncoder\n",
    "le = LabelEncoder()\n",
    "df[\"game_name\"] = le.fit_transform(df[\"game_name\"])\n",
    "df[\"publisher\"] = le.fit_transform(df[\"publisher\"])\n"
   ]
  },
  {
   "cell_type": "code",
   "execution_count": 24,
   "id": "240fde4c",
   "metadata": {
    "execution": {
     "iopub.execute_input": "2025-10-08T04:19:31.917072Z",
     "iopub.status.busy": "2025-10-08T04:19:31.916706Z",
     "iopub.status.idle": "2025-10-08T04:19:31.924670Z",
     "shell.execute_reply": "2025-10-08T04:19:31.923476Z"
    },
    "papermill": {
     "duration": 0.023279,
     "end_time": "2025-10-08T04:19:31.926704",
     "exception": false,
     "start_time": "2025-10-08T04:19:31.903425",
     "status": "completed"
    },
    "tags": []
   },
   "outputs": [],
   "source": [
    "# lets drop our feature which we transformed\n",
    "df.drop(columns = [\"release_date\",\"genre\",\"platform\"],inplace = True)"
   ]
  },
  {
   "cell_type": "code",
   "execution_count": 25,
   "id": "db5b4fda",
   "metadata": {
    "execution": {
     "iopub.execute_input": "2025-10-08T04:19:31.949950Z",
     "iopub.status.busy": "2025-10-08T04:19:31.949593Z",
     "iopub.status.idle": "2025-10-08T04:19:31.960002Z",
     "shell.execute_reply": "2025-10-08T04:19:31.958951Z"
    },
    "papermill": {
     "duration": 0.024121,
     "end_time": "2025-10-08T04:19:31.961647",
     "exception": false,
     "start_time": "2025-10-08T04:19:31.937526",
     "status": "completed"
    },
    "tags": []
   },
   "outputs": [
    {
     "data": {
      "text/plain": [
       "game_name              0\n",
       "highest_price          0\n",
       "publisher              0\n",
       "playstation_score      0\n",
       "Action                 0\n",
       "Adult                  0\n",
       "Adventure              0\n",
       "Arcade                 0\n",
       "Brain training         0\n",
       "Casual                 0\n",
       "Educational            0\n",
       "Family                 0\n",
       "Fighting               0\n",
       "Fitness                0\n",
       "Horror                 0\n",
       "Music/rhythm           0\n",
       "Party                  0\n",
       "Puzzle                 0\n",
       "Quiz                   0\n",
       "Racing                 0\n",
       "Role playing games     0\n",
       "Shooter                0\n",
       "Simulation             0\n",
       "Simulator              0\n",
       "Sports                 0\n",
       "Strategy               0\n",
       "Unique                 0\n",
       "genre_count            0\n",
       "PS Vita                0\n",
       "PS3                    0\n",
       "PS4                    0\n",
       "PS5                    0\n",
       "PSP                    0\n",
       "platform_count         0\n",
       "release_year           0\n",
       "release_month          0\n",
       "release_day_of_week    0\n",
       "dtype: int64"
      ]
     },
     "execution_count": 25,
     "metadata": {},
     "output_type": "execute_result"
    }
   ],
   "source": [
    "df.isna().sum()"
   ]
  },
  {
   "cell_type": "code",
   "execution_count": null,
   "id": "455595bb",
   "metadata": {
    "papermill": {
     "duration": 0.010332,
     "end_time": "2025-10-08T04:19:31.983172",
     "exception": false,
     "start_time": "2025-10-08T04:19:31.972840",
     "status": "completed"
    },
    "tags": []
   },
   "outputs": [],
   "source": []
  }
 ],
 "metadata": {
  "kaggle": {
   "accelerator": "none",
   "dataSources": [
    {
     "datasetId": 8263039,
     "sourceId": 13048981,
     "sourceType": "datasetVersion"
    }
   ],
   "dockerImageVersionId": 31153,
   "isGpuEnabled": false,
   "isInternetEnabled": true,
   "language": "python",
   "sourceType": "notebook"
  },
  "kernelspec": {
   "display_name": "Python 3",
   "language": "python",
   "name": "python3"
  },
  "language_info": {
   "codemirror_mode": {
    "name": "ipython",
    "version": 3
   },
   "file_extension": ".py",
   "mimetype": "text/x-python",
   "name": "python",
   "nbconvert_exporter": "python",
   "pygments_lexer": "ipython3",
   "version": "3.11.13"
  },
  "papermill": {
   "default_parameters": {},
   "duration": 14.215002,
   "end_time": "2025-10-08T04:19:32.717317",
   "environment_variables": {},
   "exception": null,
   "input_path": "__notebook__.ipynb",
   "output_path": "__notebook__.ipynb",
   "parameters": {},
   "start_time": "2025-10-08T04:19:18.502315",
   "version": "2.6.0"
  }
 },
 "nbformat": 4,
 "nbformat_minor": 5
}
